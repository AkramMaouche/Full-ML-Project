{
 "cells": [
  {
   "cell_type": "code",
   "execution_count": 1,
   "metadata": {},
   "outputs": [],
   "source": [
    "import pandas as pd \n",
    "import numpy as np \n",
    "import matplotlib.pyplot as plt \n",
    "import seaborn as sns \n",
    "\n",
    "from sklearn.metrics import mean_absolute_error,mean_squared_error,r2_score\n",
    "from sklearn.neighbors import KNeighborsRegressor\n",
    "from sklearn.tree import DecisionTreeRegressor \n",
    "from sklearn.ensemble import RandomForestRegressor \n",
    "from sklearn.svm import SVR\n",
    "from sklearn.linear_model import LinearRegression,Ridge,Lasso \n",
    "from sklearn.model_selection import RandomizedSearchCV\n",
    "from xgboost import XGBRegressor \n",
    "from catboost import CatBoostRegressor\n",
    "import warnings\n",
    " "
   ]
  },
  {
   "cell_type": "code",
   "execution_count": 2,
   "metadata": {},
   "outputs": [
    {
     "data": {
      "text/html": [
       "<div>\n",
       "<style scoped>\n",
       "    .dataframe tbody tr th:only-of-type {\n",
       "        vertical-align: middle;\n",
       "    }\n",
       "\n",
       "    .dataframe tbody tr th {\n",
       "        vertical-align: top;\n",
       "    }\n",
       "\n",
       "    .dataframe thead th {\n",
       "        text-align: right;\n",
       "    }\n",
       "</style>\n",
       "<table border=\"1\" class=\"dataframe\">\n",
       "  <thead>\n",
       "    <tr style=\"text-align: right;\">\n",
       "      <th></th>\n",
       "      <th>race_ethnicity</th>\n",
       "      <th>parental_level_of_education</th>\n",
       "      <th>lunch</th>\n",
       "      <th>test_preparation_course</th>\n",
       "      <th>gender</th>\n",
       "      <th>math_score</th>\n",
       "      <th>reading_score</th>\n",
       "      <th>writing_score</th>\n",
       "      <th>Total_score</th>\n",
       "      <th>Avrage</th>\n",
       "    </tr>\n",
       "  </thead>\n",
       "  <tbody>\n",
       "    <tr>\n",
       "      <th>0</th>\n",
       "      <td>group B</td>\n",
       "      <td>bachelor's degree</td>\n",
       "      <td>standard</td>\n",
       "      <td>none</td>\n",
       "      <td>female</td>\n",
       "      <td>72</td>\n",
       "      <td>72</td>\n",
       "      <td>74</td>\n",
       "      <td>218</td>\n",
       "      <td>72.67</td>\n",
       "    </tr>\n",
       "    <tr>\n",
       "      <th>1</th>\n",
       "      <td>group C</td>\n",
       "      <td>some college</td>\n",
       "      <td>standard</td>\n",
       "      <td>completed</td>\n",
       "      <td>female</td>\n",
       "      <td>69</td>\n",
       "      <td>90</td>\n",
       "      <td>88</td>\n",
       "      <td>247</td>\n",
       "      <td>82.33</td>\n",
       "    </tr>\n",
       "    <tr>\n",
       "      <th>2</th>\n",
       "      <td>group B</td>\n",
       "      <td>master's degree</td>\n",
       "      <td>standard</td>\n",
       "      <td>none</td>\n",
       "      <td>female</td>\n",
       "      <td>90</td>\n",
       "      <td>95</td>\n",
       "      <td>93</td>\n",
       "      <td>278</td>\n",
       "      <td>92.67</td>\n",
       "    </tr>\n",
       "    <tr>\n",
       "      <th>3</th>\n",
       "      <td>group A</td>\n",
       "      <td>associate's degree</td>\n",
       "      <td>free/reduced</td>\n",
       "      <td>none</td>\n",
       "      <td>male</td>\n",
       "      <td>47</td>\n",
       "      <td>57</td>\n",
       "      <td>44</td>\n",
       "      <td>148</td>\n",
       "      <td>49.33</td>\n",
       "    </tr>\n",
       "    <tr>\n",
       "      <th>4</th>\n",
       "      <td>group C</td>\n",
       "      <td>some college</td>\n",
       "      <td>standard</td>\n",
       "      <td>none</td>\n",
       "      <td>male</td>\n",
       "      <td>76</td>\n",
       "      <td>78</td>\n",
       "      <td>75</td>\n",
       "      <td>229</td>\n",
       "      <td>76.33</td>\n",
       "    </tr>\n",
       "  </tbody>\n",
       "</table>\n",
       "</div>"
      ],
      "text/plain": [
       "  race_ethnicity parental_level_of_education         lunch  \\\n",
       "0        group B           bachelor's degree      standard   \n",
       "1        group C                some college      standard   \n",
       "2        group B             master's degree      standard   \n",
       "3        group A          associate's degree  free/reduced   \n",
       "4        group C                some college      standard   \n",
       "\n",
       "  test_preparation_course  gender  math_score  reading_score  writing_score  \\\n",
       "0                    none  female          72             72             74   \n",
       "1               completed  female          69             90             88   \n",
       "2                    none  female          90             95             93   \n",
       "3                    none    male          47             57             44   \n",
       "4                    none    male          76             78             75   \n",
       "\n",
       "   Total_score  Avrage  \n",
       "0          218   72.67  \n",
       "1          247   82.33  \n",
       "2          278   92.67  \n",
       "3          148   49.33  \n",
       "4          229   76.33  "
      ]
     },
     "execution_count": 2,
     "metadata": {},
     "output_type": "execute_result"
    }
   ],
   "source": [
    "df =  pd.read_csv('Data/cleaned_data.csv')\n",
    "df.head()"
   ]
  },
  {
   "cell_type": "code",
   "execution_count": 3,
   "metadata": {},
   "outputs": [
    {
     "data": {
      "text/plain": [
       "0      72.67\n",
       "1      82.33\n",
       "2      92.67\n",
       "3      49.33\n",
       "4      76.33\n",
       "       ...  \n",
       "995    94.00\n",
       "996    57.33\n",
       "997    65.00\n",
       "998    74.33\n",
       "999    83.00\n",
       "Name: Avrage, Length: 1000, dtype: float64"
      ]
     },
     "execution_count": 3,
     "metadata": {},
     "output_type": "execute_result"
    }
   ],
   "source": [
    "df.iloc[:,-1]"
   ]
  },
  {
   "cell_type": "markdown",
   "metadata": {},
   "source": [
    "**Preparing X And Y variabls** "
   ]
  },
  {
   "cell_type": "code",
   "execution_count": 23,
   "metadata": {},
   "outputs": [
    {
     "data": {
      "text/html": [
       "<div>\n",
       "<style scoped>\n",
       "    .dataframe tbody tr th:only-of-type {\n",
       "        vertical-align: middle;\n",
       "    }\n",
       "\n",
       "    .dataframe tbody tr th {\n",
       "        vertical-align: top;\n",
       "    }\n",
       "\n",
       "    .dataframe thead th {\n",
       "        text-align: right;\n",
       "    }\n",
       "</style>\n",
       "<table border=\"1\" class=\"dataframe\">\n",
       "  <thead>\n",
       "    <tr style=\"text-align: right;\">\n",
       "      <th></th>\n",
       "      <th>race_ethnicity</th>\n",
       "      <th>parental_level_of_education</th>\n",
       "      <th>lunch</th>\n",
       "      <th>test_preparation_course</th>\n",
       "      <th>gender</th>\n",
       "      <th>reading_score</th>\n",
       "      <th>writing_score</th>\n",
       "    </tr>\n",
       "  </thead>\n",
       "  <tbody>\n",
       "    <tr>\n",
       "      <th>257</th>\n",
       "      <td>group C</td>\n",
       "      <td>associate's degree</td>\n",
       "      <td>standard</td>\n",
       "      <td>completed</td>\n",
       "      <td>male</td>\n",
       "      <td>77</td>\n",
       "      <td>77</td>\n",
       "    </tr>\n",
       "    <tr>\n",
       "      <th>13</th>\n",
       "      <td>group A</td>\n",
       "      <td>some college</td>\n",
       "      <td>standard</td>\n",
       "      <td>completed</td>\n",
       "      <td>male</td>\n",
       "      <td>72</td>\n",
       "      <td>70</td>\n",
       "    </tr>\n",
       "    <tr>\n",
       "      <th>578</th>\n",
       "      <td>group B</td>\n",
       "      <td>some college</td>\n",
       "      <td>free/reduced</td>\n",
       "      <td>completed</td>\n",
       "      <td>female</td>\n",
       "      <td>56</td>\n",
       "      <td>58</td>\n",
       "    </tr>\n",
       "    <tr>\n",
       "      <th>703</th>\n",
       "      <td>group D</td>\n",
       "      <td>some college</td>\n",
       "      <td>standard</td>\n",
       "      <td>none</td>\n",
       "      <td>female</td>\n",
       "      <td>64</td>\n",
       "      <td>67</td>\n",
       "    </tr>\n",
       "    <tr>\n",
       "      <th>840</th>\n",
       "      <td>group D</td>\n",
       "      <td>high school</td>\n",
       "      <td>free/reduced</td>\n",
       "      <td>none</td>\n",
       "      <td>female</td>\n",
       "      <td>52</td>\n",
       "      <td>46</td>\n",
       "    </tr>\n",
       "  </tbody>\n",
       "</table>\n",
       "</div>"
      ],
      "text/plain": [
       "    race_ethnicity parental_level_of_education         lunch  \\\n",
       "257        group C          associate's degree      standard   \n",
       "13         group A                some college      standard   \n",
       "578        group B                some college  free/reduced   \n",
       "703        group D                some college      standard   \n",
       "840        group D                 high school  free/reduced   \n",
       "\n",
       "    test_preparation_course  gender  reading_score  writing_score  \n",
       "257               completed    male             77             77  \n",
       "13                completed    male             72             70  \n",
       "578               completed  female             56             58  \n",
       "703                    none  female             64             67  \n",
       "840                    none  female             52             46  "
      ]
     },
     "execution_count": 23,
     "metadata": {},
     "output_type": "execute_result"
    }
   ],
   "source": [
    "X = df.drop(columns=['Avrage','Total_score','math_score'],axis=1)\n",
    "X.sample(5)"
   ]
  },
  {
   "cell_type": "code",
   "execution_count": 24,
   "metadata": {},
   "outputs": [
    {
     "data": {
      "text/plain": [
       "(1000, 7)"
      ]
     },
     "execution_count": 24,
     "metadata": {},
     "output_type": "execute_result"
    }
   ],
   "source": [
    "X.shape"
   ]
  },
  {
   "cell_type": "code",
   "execution_count": 25,
   "metadata": {},
   "outputs": [
    {
     "data": {
      "text/plain": [
       "0      72\n",
       "1      69\n",
       "2      90\n",
       "3      47\n",
       "4      76\n",
       "       ..\n",
       "995    88\n",
       "996    62\n",
       "997    59\n",
       "998    68\n",
       "999    77\n",
       "Name: math_score, Length: 1000, dtype: int64"
      ]
     },
     "execution_count": 25,
     "metadata": {},
     "output_type": "execute_result"
    }
   ],
   "source": [
    "y =  df['math_score']\n",
    "y"
   ]
  },
  {
   "cell_type": "code",
   "execution_count": 26,
   "metadata": {},
   "outputs": [
    {
     "name": "stdout",
     "output_type": "stream",
     "text": [
      "Categories in gender variable: ['female' 'male']\n",
      "Categories in race/Ethnicity variable: ['group B' 'group C' 'group A' 'group D' 'group E']\n",
      "\n",
      "Categories in paretale level of education variable: [\"bachelor's degree\" 'some college' \"master's degree\" \"associate's degree\"\n",
      " 'high school' 'some high school']\n",
      "\n",
      "Categories in lunch variable: ['standard' 'free/reduced']\n",
      "Categories in test preparation course variable: ['none' 'completed']\n"
     ]
    }
   ],
   "source": [
    "print('Categories in gender variable:',end=\" \")\n",
    "print(df['gender'].unique())\n",
    "\n",
    "print('Categories in race/Ethnicity variable:',end=\" \")\n",
    "print(df['race_ethnicity'].unique())\n",
    "print('')\n",
    "print('Categories in paretale level of education variable:',end=\" \")\n",
    "print(df['parental_level_of_education'].unique())\n",
    "print('')\n",
    "print('Categories in lunch variable:',end=\" \")\n",
    "print(df['lunch'].unique())\n",
    "print('Categories in test preparation course variable:',end=\" \")\n",
    "print(df['test_preparation_course'].unique())\n"
   ]
  },
  {
   "cell_type": "markdown",
   "metadata": {},
   "source": [
    "**standradtion and encoding**"
   ]
  },
  {
   "cell_type": "code",
   "execution_count": 27,
   "metadata": {},
   "outputs": [
    {
     "data": {
      "text/plain": [
       "Index(['reading_score', 'writing_score'], dtype='object')"
      ]
     },
     "execution_count": 27,
     "metadata": {},
     "output_type": "execute_result"
    }
   ],
   "source": [
    "num_features = X.select_dtypes(exclude='O').columns\n",
    "num_features"
   ]
  },
  {
   "cell_type": "code",
   "execution_count": 28,
   "metadata": {},
   "outputs": [
    {
     "data": {
      "text/plain": [
       "Index(['race_ethnicity', 'parental_level_of_education', 'lunch',\n",
       "       'test_preparation_course', 'gender'],\n",
       "      dtype='object')"
      ]
     },
     "execution_count": 28,
     "metadata": {},
     "output_type": "execute_result"
    }
   ],
   "source": [
    "catfeatures = X.select_dtypes(include='O').columns\n",
    "catfeatures"
   ]
  },
  {
   "cell_type": "code",
   "execution_count": 29,
   "metadata": {},
   "outputs": [],
   "source": [
    "#using ColumnTransformer for apply multiple transforms on multiplle column \n",
    "#oneHotencoder for categorical features m and  standerdScaeler for numric features  \n",
    "from sklearn.preprocessing import OneHotEncoder,StandardScaler\n",
    "from sklearn.compose import ColumnTransformer\n",
    "\n",
    "numeric_transformer = StandardScaler()\n",
    "ohe = OneHotEncoder()\n",
    "\n",
    "preprocesseur =ColumnTransformer(\n",
    "\n",
    "    [   (\"OneHotEncoder\",ohe,catfeatures),\n",
    "        ('StandrScaler',numeric_transformer,num_features),\n",
    "    \n",
    "    ]\n",
    ")"
   ]
  },
  {
   "cell_type": "code",
   "execution_count": 30,
   "metadata": {},
   "outputs": [],
   "source": [
    "X =preprocesseur.fit_transform(X)"
   ]
  },
  {
   "cell_type": "code",
   "execution_count": 31,
   "metadata": {},
   "outputs": [
    {
     "data": {
      "text/plain": [
       "array([[ 0.        ,  1.        ,  0.        , ...,  0.        ,\n",
       "         0.19399858,  0.39149181],\n",
       "       [ 0.        ,  0.        ,  1.        , ...,  0.        ,\n",
       "         1.42747598,  1.31326868],\n",
       "       [ 0.        ,  1.        ,  0.        , ...,  0.        ,\n",
       "         1.77010859,  1.64247471],\n",
       "       ...,\n",
       "       [ 0.        ,  0.        ,  1.        , ...,  0.        ,\n",
       "         0.12547206, -0.20107904],\n",
       "       [ 0.        ,  0.        ,  0.        , ...,  0.        ,\n",
       "         0.60515772,  0.58901542],\n",
       "       [ 0.        ,  0.        ,  0.        , ...,  0.        ,\n",
       "         1.15336989,  1.18158627]])"
      ]
     },
     "execution_count": 31,
     "metadata": {},
     "output_type": "execute_result"
    }
   ],
   "source": [
    "X"
   ]
  },
  {
   "cell_type": "code",
   "execution_count": 32,
   "metadata": {},
   "outputs": [
    {
     "data": {
      "text/plain": [
       "(1000, 19)"
      ]
     },
     "execution_count": 32,
     "metadata": {},
     "output_type": "execute_result"
    }
   ],
   "source": [
    "X.shape"
   ]
  },
  {
   "cell_type": "markdown",
   "metadata": {},
   "source": [
    "**Split th Data into train and test**"
   ]
  },
  {
   "cell_type": "code",
   "execution_count": 33,
   "metadata": {},
   "outputs": [
    {
     "data": {
      "text/plain": [
       "((800, 19), (200, 19))"
      ]
     },
     "execution_count": 33,
     "metadata": {},
     "output_type": "execute_result"
    }
   ],
   "source": [
    "from sklearn.model_selection import train_test_split\n",
    "\n",
    "X_train,X_test,y_train,y_test = train_test_split(X,y,test_size=0.2,random_state=42)\n",
    "X_train.shape,X_test.shape,"
   ]
  },
  {
   "cell_type": "markdown",
   "metadata": {},
   "source": [
    "**Aply multiple models**"
   ]
  },
  {
   "cell_type": "code",
   "execution_count": 34,
   "metadata": {},
   "outputs": [],
   "source": [
    "models = {\n",
    "    'LinearRegression':LinearRegression(),\n",
    "    'Ridge':Ridge(),\n",
    "    'Lasso':Lasso(),\n",
    "    'K-Neighbors Regressor':KNeighborsRegressor(),\n",
    "    'XGB Regressor':XGBRegressor(),\n",
    "    'CatBoost Regressor':CatBoostRegressor(verbose=False),\n",
    "    'Decision Tree Regressor:':DecisionTreeRegressor(),\n",
    "    'RandomForestRegressor':RandomForestRegressor(),\n",
    "    'Support Vector machine':SVR()\n",
    "}"
   ]
  },
  {
   "cell_type": "code",
   "execution_count": 48,
   "metadata": {},
   "outputs": [
    {
     "data": {
      "text/plain": [
       "'Ridge'"
      ]
     },
     "execution_count": 48,
     "metadata": {},
     "output_type": "execute_result"
    }
   ],
   "source": []
  },
  {
   "cell_type": "code",
   "execution_count": 16,
   "metadata": {},
   "outputs": [],
   "source": [
    "def Model_evaluate(true_val,predicted_val): \n",
    "    MAE = mean_absolute_error(true_val,predicted_val)\n",
    "    MSE = mean_squared_error(true_val,predicted_val)\n",
    "    rmse = np.sqrt(mean_squared_error(true_val,predicted_val))\n",
    "    r2score = r2_score(true_val,predicted_val)\n",
    "\n",
    "    return MAE,r2score,MSE,rmse"
   ]
  },
  {
   "cell_type": "code",
   "execution_count": null,
   "metadata": {},
   "outputs": [],
   "source": []
  },
  {
   "cell_type": "code",
   "execution_count": 51,
   "metadata": {},
   "outputs": [
    {
     "name": "stdout",
     "output_type": "stream",
     "text": [
      "{'LinearRegression': 0.8787434815569594}\n",
      "\u001b[1mLinearRegression\u001b[0m\n",
      "['LinearRegression']\n",
      "MODEL PERFORMANCE FOR TRAINING SET\n",
      "--Mean Squared Error: 28.4750\n",
      "--Root Mean Squared Error: 5.3362\n",
      "--Mean Absolute Error: 4.2762\n",
      "--R2 Score: 0.8737\n",
      "----------------------------------------------------------\n",
      "MODEL PERFORMANCE FOR Test SET\n",
      "--Mean Squared Error: 29.5064\n",
      "--Root Mean Squared Error: 5.4320\n",
      "--Mean Absolute Error: 4.2450\n",
      "--R2 Score: 0.8787\n",
      "==============================\n",
      "\n",
      "\n",
      "{'Ridge': 0.8805931485028738}\n",
      "\u001b[1mRidge\u001b[0m\n",
      "['LinearRegression', 'Ridge']\n",
      "MODEL PERFORMANCE FOR TRAINING SET\n",
      "--Mean Squared Error: 28.3378\n",
      "--Root Mean Squared Error: 5.3233\n",
      "--Mean Absolute Error: 4.2650\n",
      "--R2 Score: 0.8743\n",
      "----------------------------------------------------------\n",
      "MODEL PERFORMANCE FOR Test SET\n",
      "--Mean Squared Error: 29.0563\n",
      "--Root Mean Squared Error: 5.3904\n",
      "--Mean Absolute Error: 4.2111\n",
      "--R2 Score: 0.8806\n",
      "==============================\n",
      "\n",
      "\n",
      "{'Lasso': 0.825319744107968}\n",
      "\u001b[1mLasso\u001b[0m\n",
      "['LinearRegression', 'Ridge', 'Lasso']\n",
      "MODEL PERFORMANCE FOR TRAINING SET\n",
      "--Mean Squared Error: 43.4784\n",
      "--Root Mean Squared Error: 6.5938\n",
      "--Mean Absolute Error: 5.2063\n",
      "--R2 Score: 0.8071\n",
      "----------------------------------------------------------\n",
      "MODEL PERFORMANCE FOR Test SET\n",
      "--Mean Squared Error: 42.5064\n",
      "--Root Mean Squared Error: 6.5197\n",
      "--Mean Absolute Error: 5.1579\n",
      "--R2 Score: 0.8253\n",
      "==============================\n",
      "\n",
      "\n",
      "{'K-Neighbors Regressor': 0.7834973847119895}\n",
      "\u001b[1mK-Neighbors Regressor\u001b[0m\n",
      "['LinearRegression', 'Ridge', 'Lasso', 'K-Neighbors Regressor']\n",
      "MODEL PERFORMANCE FOR TRAINING SET\n",
      "--Mean Squared Error: 32.5934\n",
      "--Root Mean Squared Error: 5.7091\n",
      "--Mean Absolute Error: 4.5175\n",
      "--R2 Score: 0.8554\n",
      "----------------------------------------------------------\n",
      "MODEL PERFORMANCE FOR Test SET\n",
      "--Mean Squared Error: 52.6834\n",
      "--Root Mean Squared Error: 7.2583\n",
      "--Mean Absolute Error: 5.6370\n",
      "--R2 Score: 0.7835\n",
      "==============================\n",
      "\n",
      "\n",
      "{'XGB Regressor': 0.8274894835922622}\n",
      "\u001b[1mXGB Regressor\u001b[0m\n",
      "['LinearRegression', 'Ridge', 'Lasso', 'K-Neighbors Regressor', 'XGB Regressor']\n",
      "MODEL PERFORMANCE FOR TRAINING SET\n",
      "--Mean Squared Error: 1.0146\n",
      "--Root Mean Squared Error: 1.0073\n",
      "--Mean Absolute Error: 0.6875\n",
      "--R2 Score: 0.9955\n",
      "----------------------------------------------------------\n",
      "MODEL PERFORMANCE FOR Test SET\n",
      "--Mean Squared Error: 41.9784\n",
      "--Root Mean Squared Error: 6.4791\n",
      "--Mean Absolute Error: 5.0584\n",
      "--R2 Score: 0.8275\n",
      "==============================\n",
      "\n",
      "\n",
      "{'CatBoost Regressor': 0.8510573883533308}\n",
      "\u001b[1mCatBoost Regressor\u001b[0m\n",
      "['LinearRegression', 'Ridge', 'Lasso', 'K-Neighbors Regressor', 'XGB Regressor', 'CatBoost Regressor']\n",
      "MODEL PERFORMANCE FOR TRAINING SET\n",
      "--Mean Squared Error: 9.3180\n",
      "--Root Mean Squared Error: 3.0525\n",
      "--Mean Absolute Error: 2.4022\n",
      "--R2 Score: 0.9587\n",
      "----------------------------------------------------------\n",
      "MODEL PERFORMANCE FOR Test SET\n",
      "--Mean Squared Error: 36.2435\n",
      "--Root Mean Squared Error: 6.0203\n",
      "--Mean Absolute Error: 4.6094\n",
      "--R2 Score: 0.8511\n",
      "==============================\n",
      "\n",
      "\n",
      "{'Decision Tree Regressor:': 0.7432382229849461}\n",
      "\u001b[1mDecision Tree Regressor:\u001b[0m\n",
      "['LinearRegression', 'Ridge', 'Lasso', 'K-Neighbors Regressor', 'XGB Regressor', 'CatBoost Regressor', 'Decision Tree Regressor:']\n",
      "MODEL PERFORMANCE FOR TRAINING SET\n",
      "--Mean Squared Error: 0.0781\n",
      "--Root Mean Squared Error: 0.2795\n",
      "--Mean Absolute Error: 0.0187\n",
      "--R2 Score: 0.9997\n",
      "----------------------------------------------------------\n",
      "MODEL PERFORMANCE FOR Test SET\n",
      "--Mean Squared Error: 62.4800\n",
      "--Root Mean Squared Error: 7.9044\n",
      "--Mean Absolute Error: 6.3100\n",
      "--R2 Score: 0.7432\n",
      "==============================\n",
      "\n",
      "\n",
      "{'RandomForestRegressor': 0.8517434164812596}\n",
      "\u001b[1mRandomForestRegressor\u001b[0m\n",
      "['LinearRegression', 'Ridge', 'Lasso', 'K-Neighbors Regressor', 'XGB Regressor', 'CatBoost Regressor', 'Decision Tree Regressor:', 'RandomForestRegressor']\n",
      "MODEL PERFORMANCE FOR TRAINING SET\n",
      "--Mean Squared Error: 5.2679\n",
      "--Root Mean Squared Error: 2.2952\n",
      "--Mean Absolute Error: 1.8327\n",
      "--R2 Score: 0.9766\n",
      "----------------------------------------------------------\n",
      "MODEL PERFORMANCE FOR Test SET\n",
      "--Mean Squared Error: 36.0765\n",
      "--Root Mean Squared Error: 6.0064\n",
      "--Mean Absolute Error: 4.6594\n",
      "--R2 Score: 0.8517\n",
      "==============================\n",
      "\n",
      "\n",
      "{'Support Vector machine': 0.7286001513223705}\n",
      "\u001b[1mSupport Vector machine\u001b[0m\n",
      "['LinearRegression', 'Ridge', 'Lasso', 'K-Neighbors Regressor', 'XGB Regressor', 'CatBoost Regressor', 'Decision Tree Regressor:', 'RandomForestRegressor', 'Support Vector machine']\n",
      "MODEL PERFORMANCE FOR TRAINING SET\n",
      "--Mean Squared Error: 43.2570\n",
      "--Root Mean Squared Error: 6.5770\n",
      "--Mean Absolute Error: 4.8692\n",
      "--R2 Score: 0.8081\n",
      "----------------------------------------------------------\n",
      "MODEL PERFORMANCE FOR Test SET\n",
      "--Mean Squared Error: 66.0420\n",
      "--Root Mean Squared Error: 8.1266\n",
      "--Mean Absolute Error: 5.4015\n",
      "--R2 Score: 0.7286\n",
      "==============================\n",
      "\n",
      "\n"
     ]
    }
   ],
   "source": [
    "model_list =[]\n",
    "r2_score_list = [] \n",
    "report ={}\n",
    "for mod in range (len(list(models))):\n",
    "    model = list(models.values())[mod]\n",
    "    model.fit(X_train,y_train)\n",
    "    \n",
    "    #make predictions: \n",
    "    y_train_pred = model.predict(X_train)\n",
    "    y_test_pred = model.predict(X_test)\n",
    "\n",
    "    #Evaluate model \n",
    "    model_train_MAE, model_train_r2score, model_train_MSE,model_train_RMSE  = Model_evaluate(y_train,y_train_pred)    \n",
    "    model_test_MAE, model_test_r2score, model_test_MSE,model_test_RMSE = Model_evaluate(y_test,y_test_pred) \n",
    "\n",
    "    \n",
    "    report[list(models.keys())[mod]]= model_test_r2score\n",
    "    print(report)\n",
    "\n",
    "\n",
    "    #Print information \n",
    "\n",
    "    print('\\033[1m'+list(models.keys())[mod]+'\\033[0m') \n",
    "    model_list.append(list(models.keys())[mod])\n",
    "    print(model_list)\n",
    "    print('MODEL PERFORMANCE FOR TRAINING SET')\n",
    "    print(\"--Mean Squared Error: {:.4f}\".format(model_train_MSE))\n",
    "    print(\"--Root Mean Squared Error: {:.4f}\".format(model_train_RMSE))\n",
    "    print(\"--Mean Absolute Error: {:.4f}\".format(model_train_MAE))\n",
    "    print(\"--R2 Score: {:.4f}\".format(model_train_r2score)) \n",
    "\n",
    "    print(\"----------------------------------------------------------\")\n",
    "\n",
    "    print('MODEL PERFORMANCE FOR Test SET')\n",
    "    print(\"--Mean Squared Error: {:.4f}\".format(model_test_MSE))\n",
    "    print(\"--Root Mean Squared Error: {:.4f}\".format(model_test_RMSE))\n",
    "    print(\"--Mean Absolute Error: {:.4f}\".format(model_test_MAE))\n",
    "    print(\"--R2 Score: {:.4f}\".format(model_test_r2score)) \n",
    "\n",
    "    r2_score_list.append(model_test_r2score)\n",
    "    \n",
    "\n",
    "    print(\"=\"*30)\n",
    "    print('\\n')     "
   ]
  },
  {
   "cell_type": "code",
   "execution_count": 50,
   "metadata": {},
   "outputs": [
    {
     "data": {
      "text/plain": [
       "{'Support Vector machine': 0.7286001513223705}"
      ]
     },
     "execution_count": 50,
     "metadata": {},
     "output_type": "execute_result"
    }
   ],
   "source": [
    "report"
   ]
  },
  {
   "cell_type": "code",
   "execution_count": 43,
   "metadata": {},
   "outputs": [
    {
     "ename": "AttributeError",
     "evalue": "'list' object has no attribute 'values'",
     "output_type": "error",
     "traceback": [
      "\u001b[1;31m---------------------------------------------------------------------------\u001b[0m",
      "\u001b[1;31mAttributeError\u001b[0m                            Traceback (most recent call last)",
      "Cell \u001b[1;32mIn[43], line 1\u001b[0m\n\u001b[1;32m----> 1\u001b[0m \u001b[43mmodels_performence\u001b[49m\u001b[38;5;241;43m.\u001b[39;49m\u001b[43mvalues\u001b[49m()\n",
      "\u001b[1;31mAttributeError\u001b[0m: 'list' object has no attribute 'values'"
     ]
    }
   ],
   "source": []
  },
  {
   "cell_type": "markdown",
   "metadata": {},
   "source": [
    "# **Results**"
   ]
  },
  {
   "cell_type": "code",
   "execution_count": 19,
   "metadata": {},
   "outputs": [
    {
     "data": {
      "text/html": [
       "<div>\n",
       "<style scoped>\n",
       "    .dataframe tbody tr th:only-of-type {\n",
       "        vertical-align: middle;\n",
       "    }\n",
       "\n",
       "    .dataframe tbody tr th {\n",
       "        vertical-align: top;\n",
       "    }\n",
       "\n",
       "    .dataframe thead th {\n",
       "        text-align: right;\n",
       "    }\n",
       "</style>\n",
       "<table border=\"1\" class=\"dataframe\">\n",
       "  <thead>\n",
       "    <tr style=\"text-align: right;\">\n",
       "      <th></th>\n",
       "      <th>MODEL</th>\n",
       "      <th>R2 Score</th>\n",
       "    </tr>\n",
       "  </thead>\n",
       "  <tbody>\n",
       "    <tr>\n",
       "      <th>0</th>\n",
       "      <td>LinearRegression</td>\n",
       "      <td>1.00</td>\n",
       "    </tr>\n",
       "    <tr>\n",
       "      <th>1</th>\n",
       "      <td>Ridge</td>\n",
       "      <td>1.00</td>\n",
       "    </tr>\n",
       "    <tr>\n",
       "      <th>2</th>\n",
       "      <td>Lasso</td>\n",
       "      <td>0.99</td>\n",
       "    </tr>\n",
       "    <tr>\n",
       "      <th>4</th>\n",
       "      <td>XGB Regressor</td>\n",
       "      <td>0.99</td>\n",
       "    </tr>\n",
       "    <tr>\n",
       "      <th>5</th>\n",
       "      <td>CatBoost Regressor</td>\n",
       "      <td>0.99</td>\n",
       "    </tr>\n",
       "    <tr>\n",
       "      <th>6</th>\n",
       "      <td>Decision Tree Regressor:</td>\n",
       "      <td>0.99</td>\n",
       "    </tr>\n",
       "    <tr>\n",
       "      <th>7</th>\n",
       "      <td>RandomForestRegressor</td>\n",
       "      <td>0.99</td>\n",
       "    </tr>\n",
       "    <tr>\n",
       "      <th>3</th>\n",
       "      <td>K-Neighbors Regressor</td>\n",
       "      <td>0.96</td>\n",
       "    </tr>\n",
       "  </tbody>\n",
       "</table>\n",
       "</div>"
      ],
      "text/plain": [
       "                      MODEL  R2 Score\n",
       "0          LinearRegression      1.00\n",
       "1                     Ridge      1.00\n",
       "2                     Lasso      0.99\n",
       "4             XGB Regressor      0.99\n",
       "5        CatBoost Regressor      0.99\n",
       "6  Decision Tree Regressor:      0.99\n",
       "7     RandomForestRegressor      0.99\n",
       "3     K-Neighbors Regressor      0.96"
      ]
     },
     "execution_count": 19,
     "metadata": {},
     "output_type": "execute_result"
    }
   ],
   "source": [
    "results = pd.DataFrame(list(zip(model_list,r2_score_list)),columns=['MODEL','R2 Score']).round(2).sort_values(by=['R2 Score'],ascending=False)\n",
    "results"
   ]
  },
  {
   "cell_type": "markdown",
   "metadata": {},
   "source": [
    "* the Right model:</br>\n",
    "**Linear rigression**"
   ]
  },
  {
   "cell_type": "code",
   "execution_count": 20,
   "metadata": {},
   "outputs": [
    {
     "name": "stdout",
     "output_type": "stream",
     "text": [
      "Accuracy of the model is: 100.0\n"
     ]
    }
   ],
   "source": [
    "lin_model = LinearRegression(fit_intercept=True)\n",
    "lin_model.fit(X_train,y_train)\n",
    "y_pred =lin_model.predict(X_test)\n",
    "score =r2_score(y_test,y_pred)*100\n",
    "print('Accuracy of the model is: %.1f'%score) \n"
   ]
  },
  {
   "cell_type": "markdown",
   "metadata": {},
   "source": [
    "**Predicted values and the true values** \n"
   ]
  },
  {
   "cell_type": "code",
   "execution_count": 21,
   "metadata": {},
   "outputs": [
    {
     "data": {
      "text/html": [
       "<div>\n",
       "<style scoped>\n",
       "    .dataframe tbody tr th:only-of-type {\n",
       "        vertical-align: middle;\n",
       "    }\n",
       "\n",
       "    .dataframe tbody tr th {\n",
       "        vertical-align: top;\n",
       "    }\n",
       "\n",
       "    .dataframe thead th {\n",
       "        text-align: right;\n",
       "    }\n",
       "</style>\n",
       "<table border=\"1\" class=\"dataframe\">\n",
       "  <thead>\n",
       "    <tr style=\"text-align: right;\">\n",
       "      <th></th>\n",
       "      <th>Actuale Values</th>\n",
       "      <th>Predicted Values</th>\n",
       "      <th>Diffrance</th>\n",
       "    </tr>\n",
       "  </thead>\n",
       "  <tbody>\n",
       "    <tr>\n",
       "      <th>521</th>\n",
       "      <td>87.00</td>\n",
       "      <td>87.000267</td>\n",
       "      <td>-0.000267</td>\n",
       "    </tr>\n",
       "    <tr>\n",
       "      <th>737</th>\n",
       "      <td>64.00</td>\n",
       "      <td>63.999725</td>\n",
       "      <td>0.000275</td>\n",
       "    </tr>\n",
       "    <tr>\n",
       "      <th>740</th>\n",
       "      <td>75.00</td>\n",
       "      <td>75.000526</td>\n",
       "      <td>-0.000526</td>\n",
       "    </tr>\n",
       "    <tr>\n",
       "      <th>660</th>\n",
       "      <td>74.67</td>\n",
       "      <td>74.665718</td>\n",
       "      <td>0.004282</td>\n",
       "    </tr>\n",
       "    <tr>\n",
       "      <th>411</th>\n",
       "      <td>81.67</td>\n",
       "      <td>81.665749</td>\n",
       "      <td>0.004251</td>\n",
       "    </tr>\n",
       "    <tr>\n",
       "      <th>...</th>\n",
       "      <td>...</td>\n",
       "      <td>...</td>\n",
       "      <td>...</td>\n",
       "    </tr>\n",
       "    <tr>\n",
       "      <th>408</th>\n",
       "      <td>55.00</td>\n",
       "      <td>55.001152</td>\n",
       "      <td>-0.001152</td>\n",
       "    </tr>\n",
       "    <tr>\n",
       "      <th>332</th>\n",
       "      <td>57.00</td>\n",
       "      <td>56.999817</td>\n",
       "      <td>0.000183</td>\n",
       "    </tr>\n",
       "    <tr>\n",
       "      <th>208</th>\n",
       "      <td>77.00</td>\n",
       "      <td>76.999725</td>\n",
       "      <td>0.000275</td>\n",
       "    </tr>\n",
       "    <tr>\n",
       "      <th>613</th>\n",
       "      <td>72.00</td>\n",
       "      <td>71.999794</td>\n",
       "      <td>0.000206</td>\n",
       "    </tr>\n",
       "    <tr>\n",
       "      <th>78</th>\n",
       "      <td>69.00</td>\n",
       "      <td>68.999962</td>\n",
       "      <td>0.000038</td>\n",
       "    </tr>\n",
       "  </tbody>\n",
       "</table>\n",
       "<p>200 rows × 3 columns</p>\n",
       "</div>"
      ],
      "text/plain": [
       "     Actuale Values  Predicted Values  Diffrance\n",
       "521           87.00         87.000267  -0.000267\n",
       "737           64.00         63.999725   0.000275\n",
       "740           75.00         75.000526  -0.000526\n",
       "660           74.67         74.665718   0.004282\n",
       "411           81.67         81.665749   0.004251\n",
       "..              ...               ...        ...\n",
       "408           55.00         55.001152  -0.001152\n",
       "332           57.00         56.999817   0.000183\n",
       "208           77.00         76.999725   0.000275\n",
       "613           72.00         71.999794   0.000206\n",
       "78            69.00         68.999962   0.000038\n",
       "\n",
       "[200 rows x 3 columns]"
      ]
     },
     "execution_count": 21,
     "metadata": {},
     "output_type": "execute_result"
    }
   ],
   "source": [
    "show_values = pd.DataFrame({\"Actuale Values\":y_test,\"Predicted Values\":y_pred,\"Diffrance\":(y_test-y_pred)})\n",
    "show_values"
   ]
  },
  {
   "cell_type": "code",
   "execution_count": null,
   "metadata": {},
   "outputs": [],
   "source": []
  },
  {
   "cell_type": "code",
   "execution_count": null,
   "metadata": {},
   "outputs": [],
   "source": []
  }
 ],
 "metadata": {
  "kernelspec": {
   "display_name": "Python 3",
   "language": "python",
   "name": "python3"
  },
  "language_info": {
   "codemirror_mode": {
    "name": "ipython",
    "version": 3
   },
   "file_extension": ".py",
   "mimetype": "text/x-python",
   "name": "python",
   "nbconvert_exporter": "python",
   "pygments_lexer": "ipython3",
   "version": "3.9.0"
  }
 },
 "nbformat": 4,
 "nbformat_minor": 2
}
